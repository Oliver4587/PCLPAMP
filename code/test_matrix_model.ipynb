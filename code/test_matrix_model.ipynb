{
 "cells": [
  {
   "cell_type": "code",
   "execution_count": 1,
   "id": "d0ba9ef8",
   "metadata": {},
   "outputs": [],
   "source": [
    "from sklearn.metrics import confusion_matrix, classification_report, roc_auc_score, roc_curve,RocCurveDisplay\n",
    "import seaborn as sns\n",
    "import matplotlib.pyplot as plt\n",
    "import pandas as pd\n",
    "# from scikitplot.metrics import plot_roc_curve\n",
    "\n",
    "def display_conf_matrix(true_labels, pred_labels, pred_proba, classifier, savefile):\n",
    "    \n",
    "    # Display and Save Confusion Matrix:\n",
    "    fig = plt.figure(figsize=(6,4), dpi=100)\n",
    "\n",
    "    confusion_matrix1 = pd.crosstab(np.array(true_labels), \n",
    "                                   np.array(pred_labels),\n",
    "                                   rownames=['Actual'], colnames=['Predicted'])\n",
    "    confusion_matrix2 = pd.crosstab(np.array(true_labels), \n",
    "                                   np.array(pred_labels),\n",
    "                                   rownames=['Actual'], colnames=['Predicted'], normalize='index')\n",
    "\n",
    "\n",
    "    # Extracting counts and percentages from the matrices above:\n",
    "    counts = [\"{0:,}\".format(value) for value in\n",
    "                    confusion_matrix1.to_numpy().flatten()]\n",
    "\n",
    "    percentages = [\"{0:.2%}\".format(value) for value in\n",
    "                         confusion_matrix2.to_numpy().flatten()]\n",
    "\n",
    "    # Combining counts and percentages as one label:\n",
    "    labels = [f\"{v1}\\n{v2}\" for v1, v2 in zip(percentages, counts)]\n",
    "\n",
    "    # Reshaping the labels to fit the array:\n",
    "    labels = np.asarray(labels).reshape(2,2)\n",
    "\n",
    "    #Plotting the heatmap:\n",
    "    sns.heatmap(confusion_matrix2, annot=labels, fmt='', cmap='BuPu')\n",
    "    plt.title(\"Confusion Matrix - %s\\n\" % classifier, fontweight='bold')\n",
    "    plt.savefig(savefile, bbox_inches='tight')\n",
    "    plt.show()\n",
    "\n",
    "    # Calculating Metrics Using the Confusion Matrix:\n",
    "    CM = confusion_matrix(true_labels, pred_labels, labels=[0, 1])\n",
    "\n",
    "    TP = CM[1][1]\n",
    "    FN = CM[1][0]\n",
    "    FP = CM[0][1]\n",
    "    TN = CM[0][0]\n",
    "\n",
    "    # Sensitivity, hit rate, recall, or true positive rate\n",
    "    TPR = TP/(TP+FN)\n",
    "    print(f\"Sensitivity:     {TPR*100:.2f}%\")\n",
    "    # Specificity or true negative rate\n",
    "    TNR = TN/(TN+FP) \n",
    "    print(f\"Specificity:     {TNR*100:.2f}%\")\n",
    "    # Precision or positive predictive value\n",
    "    PPV = TP/(TP+FP)\n",
    "    # Negative predictive value\n",
    "    NPV = TN/(TN+FN)\n",
    "    # Fall out or false positive rate\n",
    "    FPR = FP/(FP+TN)\n",
    "    # False negative rate\n",
    "    FNR = FN/(TP+FN)\n",
    "    # False discovery rate\n",
    "    FDR = FP/(TP+FP)\n",
    "\n",
    "    # Overall accuracy\n",
    "    ACC = (TP+TN)/(TP+FP+FN+TN)\n",
    "    print(f\"Accuracy:        {ACC*100:.2f}%\") \n",
    "\n",
    "    # f1 Score:\n",
    "    F1 = TP/(TP + (0.5*(FP+FN)))\n",
    "    print(f\"F1 Score:        {F1*100:.2f}%\") \n",
    "\n",
    "    MCC = ((TP*TN)-(FP*FN))/ (((TP+FP)*(TP+FN)*(TN+FP)*(TN+FN))**0.5)\n",
    "    print(f\"MCC:             {MCC*100:.2f}%\") \n",
    "    \n",
    "    auROC = roc_auc_score(true_labels, pred_proba)\n",
    "    print(f\"auROC:           {auROC*100:.2f}%\") \n",
    "    \n",
    "    metrics = [TPR*100, TNR*100, ACC*100, F1*100, MCC*100, auROC*100]\n",
    "\n",
    "    return metrics\n",
    "\n"
   ]
  },
  {
   "cell_type": "code",
   "execution_count": 2,
   "id": "db425660-daa0-47d6-92e9-252896edef06",
   "metadata": {},
   "outputs": [],
   "source": [
    "# !pip install scikit-learn\n",
    "# !pip install seaborn\n",
    "# !pip install scikitplot"
   ]
  },
  {
   "cell_type": "code",
   "execution_count": null,
   "id": "03b39d95",
   "metadata": {},
   "outputs": [],
   "source": [
    "def convert_preds(preds):\n",
    "    _,label=torch.max(preds,1)\n",
    "    label=np.array(label)\n",
    "    model_preds = np.concatenate(label, axis=0).tolist()\n",
    "    df = pd.DataFrame({'pred_labels': model_preds})\n",
    "    pred_labels = df.pred_labels\n",
    "    return pred_labels"
   ]
  },
  {
   "cell_type": "code",
   "execution_count": 3,
   "id": "f85afe29-10a2-497e-952e-e55f855c3dc7",
   "metadata": {},
   "outputs": [],
   "source": [
    "#load for PCLPAMP\n",
    "def load_prefix_checkpoint(model,filename):\n",
    "    # Loads dictionary\n",
    "    checkpoint_filename = filename + \"/checkpoint.pth\"\n",
    "    checkpoint = torch.load(checkpoint_filename)\n",
    "\n",
    "    # Restore state for model and optimizer\n",
    "    model.prefix_encoder.load_state_dict(checkpoint['model_prefix_state_dict'])\n",
    "    model.classifier.load_state_dict(checkpoint['model_classifier_state_dict'])\n",
    "    model.train() # always use TRAIN for resuming training   "
   ]
  },
  {
   "cell_type": "code",
   "execution_count": 3,
   "id": "ce0e72b3",
   "metadata": {},
   "outputs": [
    {
     "name": "stderr",
     "output_type": "stream",
     "text": [
      "/opt/conda/lib/python3.10/site-packages/tqdm/auto.py:21: TqdmWarning: IProgress not found. Please update jupyter and ipywidgets. See https://ipywidgets.readthedocs.io/en/stable/user_install.html\n",
      "  from .autonotebook import tqdm as notebook_tqdm\n",
      "You are using the default legacy behaviour of the <class 'transformers.models.t5.tokenization_t5.T5Tokenizer'>. This is expected, and simply means that the `legacy` (previous) behavior will be used so nothing changes for you. If you want to use the new behaviour, set `legacy=False`. This should only be set if you understand what it means, and thoroughly read the reason why this was added as explained in https://github.com/huggingface/transformers/pull/24565\n"
     ]
    },
    {
     "name": "stdout",
     "output_type": "stream",
     "text": [
      "total param is 689282\n"
     ]
    },
    {
     "data": {
      "image/png": "[encoded data removed]",
      "text/plain": [
       "<Figure size 600x400 with 2 Axes>"
      ]
     },
     "metadata": {},
     "output_type": "display_data"
    },
    {
     "name": "stdout",
     "output_type": "stream",
     "text": [
      "Sensitivity:     82.80%\n",
      "Specificity:     87.46%\n",
      "Accuracy:        85.13%\n",
      "F1 Score:        84.77%\n",
      "MCC:             70.33%\n",
      "auROC:           90.58%\n"
     ]
    }
   ],
   "source": [
    "from new_model import ProtT5PrefixForSequenceClassification\n",
    "from model_wo_prompt import ProtT5ForSequenceClassification\n",
    "import torch\n",
    "from torch.utils.data import DataLoader\n",
    "from transformers import AutoConfig,T5Tokenizer\n",
    "from dataset import PlantAMPDataset\n",
    "import numpy as np\n",
    "#different lambda\n",
    "# loaded_path='../saved_model/Margin8.0_Contrasive_ProtT5_Prompt20_lambda0.3_acc0.9301'\n",
    "# loaded_path=\"../saved_model/Margin8.0_Contrasive_ProtT5_Prompt20_lambda1.0_acc:0.9415\"\n",
    "# loaded_path=\"../saved_model/Margin8.0_Contrasive_ProtBert_Prompt20_acc:0.9241\"\n",
    "# loaded_path= \"../saved_model/Margin8.0_Contrasive_ProtT5_Prompt20_acc:0.9307\"\n",
    "# loaded_path = \"../saved_model/Margin8.0_Contrasive_ProtT5_Prompt20_lambda0.8_acc:\"\n",
    "# loaded_path = \"../saved_model/Margin8.0_Contrasive_ProtT5_Prompt20_lambda0.5_acc:\"\n",
    "# loaded_path = \"../saved_model/Margin8.0_Contrasive_ProtT5_Prompt20_lambda0.3_acc:\"\n",
    "# loaded_path = \"../saved_model/Margin8.0_Contrasive_ProtT5_Prompt20_lambda0.0_acc:\"\n",
    "\n",
    "#different length\n",
    "# loaded_path = \"../saved_model/Margin8.0_Contrasive_ProtT5_Prompt10_lambda1.0_acc:\"\n",
    "# loaded_path=\"../saved_model/Margin8.0_Contrasive_ProtT5_Prompt50_lambda1.0_acc:\"\n",
    "# loaded_path = \"../saved_model/Margin8.0_Contrasive_ProtT5_Prompt1_lambda1.0_acc:\"\n",
    "# loaded_path = \"../saved_model/Margin8.0_Contrasive_ProtT5_Prompt5_lambda1.0_acc:\"\n",
    "# loaded_path = \"../saved_model/Margin5.0_Contrasive_ProtT5_Prompt20_lambda1.0_acc:\"\n",
    "# loaded_path = \"../saved_model/Margin3.0_Contrasive_ProtT5_Prompt20_lambda1.0_acc:\"\n",
    "# loaded_path = '../saved_model/Margin10.0_Contrasive_ProtT5_Prompt20_lambda1.0_acc:'\n",
    "loaded_path = '../saved_model/Margin1.0_Contrasive_ProtT5_Prompt20_lambda1.0_acc:'\n",
    "\n",
    "#baseline\n",
    "# loaded_path = \"../saved_model/Baseline Model\"\n",
    "\n",
    "pretrained_path=\"Rostlab/prot_t5_xl_uniref50\"\n",
    "config = AutoConfig.from_pretrained(loaded_path)\n",
    "\n",
    "tokenizer=T5Tokenizer.from_pretrained(pretrained_path, do_lower_case=False )\n",
    "batch_size=8\n",
    "test_path=\"../dataset/plant_test.csv\"\n",
    "test_dataset=PlantAMPDataset(test_path,tokenizer=tokenizer)\n",
    "test_loader = torch.utils.data.DataLoader(\n",
    "                          test_dataset,\n",
    "                          batch_size=batch_size)\n",
    "                          \n",
    "# model = ProtT5ForSequenceClassification.from_pretrained(loaded_path)\n",
    "# model = ProtT5PrefixForSequenceClassification.from_pretrained(loaded_path)\n",
    "model = ProtT5PrefixForSequenceClassification.from_pretrained(pretrained_path, config=config)\n",
    "load_prefix_checkpoint(model,loaded_path)\n",
    "device = torch.device('cuda' if torch.cuda.is_available() else 'cpu')\n",
    "model.to(device)\n",
    "pred_labels=[]\n",
    "real_labels=[]\n",
    "pred_probabilaty=[]\n",
    "model.eval()\n",
    "for i, batch in enumerate(test_loader):\n",
    "    input_ids = batch['input_ids'].to(device)\n",
    "    attention_mask = batch['attention_mask'].to(device)\n",
    "    labels = batch['labels']\n",
    "    outputs = model(input_ids,attention_mask).logits\n",
    "    # print(outputs.shape)\n",
    "    # print(torch.softmax(outputs,dim=1))\n",
    "    pred_probabilaty.append(torch.softmax(outputs,dim=1).cpu().detach().numpy())\n",
    "    pred_labels.append(outputs.argmax(dim=1).cpu().numpy())\n",
    "    real_labels.append(labels.cpu().numpy())\n",
    "real_labels = [np.concatenate(real_labels)]\n",
    "pred_labels = [np.concatenate(pred_labels)]\n",
    "real_labels = np.array(real_labels)\n",
    "pred_labels= np.array(pred_labels)\n",
    "\n",
    "\n",
    "\n",
    "pred_probabilaty= np.concatenate(pred_probabilaty)\n",
    "pre_pro = pred_probabilaty[:, 1]\n",
    "# real_labels = real_labels.reshape(-1, 1)\n",
    "# pred_labels = pred_labels.reshape(-1, 1)\n",
    "real_labels = real_labels.reshape(-1)\n",
    "pred_labels = pred_labels.reshape(-1)\n",
    "pre_pro = pre_pro.reshape(-1)\n",
    "\n",
    "# contrasive_bert_prompt20_metrics = display_conf_matrix(real_labels, pred_labels, pre_pro, f'BERTPrompt20 Model Margin{config.margin}', f'../Figures/BERT_Prompt20_Model_CM Margin{config.margin}.png')\n",
    "# contrasive_t5_prompt20_metrics = display_conf_matrix(real_labels, pred_labels, pre_pro, f'T5Prompt20 Model Margin{config.margin} lam{config.lam}', f'../Figures/T5_Prompt20_Model_CM Margin{config.margin} lam{config.lam}.png')\n",
    "# contrasive_t5_prompt_metrics = display_conf_matrix(real_labels, pred_labels, pre_pro, f'T5Prompt{config.pre_seq_len} Model Margin{config.margin} lam{config.lam}', f'../Figures/T5_Prompt{config.pre_seq_len}_Model_CM Margin{config.margin} lam{config.lam}.png')\n",
    "# contrasive_t5_margin_metrics = display_conf_matrix(real_labels, pred_labels, pre_pro, f'T5Prompt{config.pre_seq_len} Model Margin{config.margin} lam{config.lam}', f'../Figures/T5_Prompt{config.pre_seq_len}_Model_CM Margin{config.margin} lam{config.lam}.png')\n",
    "baseline_metrics = display_conf_matrix(real_labels, pred_labels, pre_pro, 'Baseline Model', '../Figures/Baseline Model.png')"
   ]
  },
  {
   "cell_type": "code",
   "execution_count": 4,
   "id": "b03ab720-9362-40a3-836d-a9fb592a375f",
   "metadata": {},
   "outputs": [],
   "source": [
    "# np.save(\"../Predictions/INDEP/INDEP_PTCLPAMP_lam1.0_Preds.npy\",pre_pro)\n",
    "# np.save(\"../Predictions/INDEP/INDEP_Real.npy\",real_labels)\n",
    "np.save(f\"../Predictions/INDEP/INDEP_PTCLAMP_length{config.pre_seq_len}_Preds.npy\",pre_pro)"
   ]
  },
  {
   "cell_type": "code",
   "execution_count": 6,
   "id": "1ab083e7-a573-4a01-8e6b-2e343da7bc8a",
   "metadata": {},
   "outputs": [
    {
     "data": {
      "text/plain": [
       "[93.0704898446834,\n",
       " 92.9510155316607,\n",
       " 93.01075268817203,\n",
       " 93.01492537313433,\n",
       " 86.02156677043766,\n",
       " 95.49252107929411]"
      ]
     },
     "execution_count": 6,
     "metadata": {},
     "output_type": "execute_result"
    }
   ],
   "source": [
    "# pred_probabilaty.shape\n",
    "# contrasive_t5_prompt20_metrics"
   ]
  },
  {
   "cell_type": "code",
   "execution_count": 5,
   "id": "4ad52e02-8fc5-4f78-9c2d-7761b98c788c",
   "metadata": {},
   "outputs": [
    {
     "data": {
      "text/plain": [
       "[92.1146953405018,\n",
       " 91.39784946236558,\n",
       " 91.75627240143369,\n",
       " 91.78571428571428,\n",
       " 83.51469060684018,\n",
       " 96.62966816973059]"
      ]
     },
     "execution_count": 5,
     "metadata": {},
     "output_type": "execute_result"
    }
   ],
   "source": [
    "# contrasive_t5_prompt_metrics\n",
    "contrasive_t5_margin_metrics"
   ]
  },
  {
   "cell_type": "code",
   "execution_count": 5,
   "id": "d556b323",
   "metadata": {},
   "outputs": [],
   "source": [
    "# metrics_prompt_dataset = pd.DataFrame({ f'ContrasiveBERT-Prompt20-Margin{config.margin}':contrasive_bert_prompt20_metrics\n",
    "#                             }).T.rename(\n",
    "#                         columns={0: \"Sensitivity (%)\", 1: \"Specificity (%)\", 2: \"Accuracy (%)\", \n",
    "#                                  3: \"F1 Score (%)\", 4: \"MCC (%)\", 5: \"auROC (%)\"})\n",
    "# external_pred_metrics = pd.read_csv('../Results/All_METRICS.csv')"
   ]
  },
  {
   "cell_type": "code",
   "execution_count": 1,
   "id": "bd5ead17-3a21-4526-9c1f-54cfb462a11b",
   "metadata": {},
   "outputs": [],
   "source": [
    "# metrics = baseline_metrics\n",
    "# dict={\"Method\": ['Baseline'],\n",
    "#     \"Sensitivity (%)\": [metrics[0]],\n",
    "#       \"Specificity (%)\": [metrics[1]],\n",
    "#       \"Accuracy (%)\": [metrics[2]],\n",
    "#       \"F1 Score (%)\":[metrics[3]],\n",
    "#       \"MCC (%)\": [metrics[4]],\n",
    "#      \"auROC (%)\": [metrics[5]]\n",
    "#      }\n",
    "# metrics_prompt_dataset = pd.DataFrame(dict)"
   ]
  },
  {
   "cell_type": "code",
   "execution_count": 6,
   "id": "b1d9c6bc-fb87-4f10-b9b2-8892397f0c0f",
   "metadata": {},
   "outputs": [],
   "source": [
    "# metrics = contrasive_t5_prompt20_metrics\n",
    "# metrics =contrasive_t5_prompt_metrics\n",
    "metrics = contrasive_t5_margin_metrics\n",
    "\n",
    "dict={\"Method\": [f'ContrastiveT5-Prompt{config.pre_seq_len}-Margin{config.margin}-lam{config.lam}'],\n",
    "    \"Sensitivity (%)\": [metrics[0]],\n",
    "      \"Specificity (%)\": [metrics[1]],\n",
    "      \"Accuracy (%)\": [metrics[2]],\n",
    "      \"F1 Score (%)\":[metrics[3]],\n",
    "      \"MCC (%)\": [metrics[4]],\n",
    "     \"auROC (%)\": [metrics[5]]\n",
    "     }\n",
    "# metrics_prompt_dataset = pd.DataFrame({ f'ContrastiveT5-Prompt20-Margin{config.margin}-lam{config.lam}':contrasive_t5_prompt20_metrics\n",
    "#                             }).T.rename(\n",
    "#                         columns={0: \"Sensitivity (%)\", 1: \"Specificity (%)\", 2: \"Accuracy (%)\", \n",
    "#                                  3: \"F1 Score (%)\", 4: \"MCC (%)\", 5: \"auROC (%)\"})\n",
    "\n",
    "metrics_prompt_dataset = pd.DataFrame(dict)\n",
    "# external_pred_metrics = pd.read_csv('../Results/All_METRICS.csv')\n",
    "# external_pred_metrics = pd.read_csv(\"../Results/T5_for_lam_METRICS.csv\")\n",
    "# external_pred_metrics = pd.read_csv('../Results/T5_for_length_METRICS.csv')\n",
    "external_pred_metrics = pd.read_csv('../Results/T5_for_margin_METRICS.csv')"
   ]
  },
  {
   "cell_type": "code",
   "execution_count": 7,
   "id": "924393f1-46ea-46e4-aa3d-7460760b5d01",
   "metadata": {},
   "outputs": [
    {
     "data": {
      "text/html": [
       "<div>\n",
       "<style scoped>\n",
       "    .dataframe tbody tr th:only-of-type {\n",
       "        vertical-align: middle;\n",
       "    }\n",
       "\n",
       "    .dataframe tbody tr th {\n",
       "        vertical-align: top;\n",
       "    }\n",
       "\n",
       "    .dataframe thead th {\n",
       "        text-align: right;\n",
       "    }\n",
       "</style>\n",
       "<table border=\"1\" class=\"dataframe\">\n",
       "  <thead>\n",
       "    <tr style=\"text-align: right;\">\n",
       "      <th></th>\n",
       "      <th>Method</th>\n",
       "      <th>Sensitivity (%)</th>\n",
       "      <th>Specificity (%)</th>\n",
       "      <th>Accuracy (%)</th>\n",
       "      <th>F1 Score (%)</th>\n",
       "      <th>MCC (%)</th>\n",
       "      <th>auROC (%)</th>\n",
       "    </tr>\n",
       "  </thead>\n",
       "  <tbody>\n",
       "    <tr>\n",
       "      <th>0</th>\n",
       "      <td>Baseline</td>\n",
       "      <td>82.795699</td>\n",
       "      <td>87.455197</td>\n",
       "      <td>85.125448</td>\n",
       "      <td>84.770642</td>\n",
       "      <td>70.327281</td>\n",
       "      <td>90.580086</td>\n",
       "    </tr>\n",
       "  </tbody>\n",
       "</table>\n",
       "</div>"
      ],
      "text/plain": [
       "     Method  Sensitivity (%)  Specificity (%)  Accuracy (%)  F1 Score (%)  \\\n",
       "0  Baseline        82.795699        87.455197     85.125448     84.770642   \n",
       "\n",
       "     MCC (%)  auROC (%)  \n",
       "0  70.327281  90.580086  "
      ]
     },
     "execution_count": 7,
     "metadata": {},
     "output_type": "execute_result"
    }
   ],
   "source": [
    "# metrics_prompt_dataset.to_csv('../Results/T5_for_margin_METRICS.csv',index=False)\n",
    "metrics_prompt_dataset"
   ]
  },
  {
   "cell_type": "code",
   "execution_count": 8,
   "id": "b7028a02-474f-4d5d-89ea-5a94b9a47f2f",
   "metadata": {},
   "outputs": [
    {
     "data": {
      "text/html": [
       "<div>\n",
       "<style scoped>\n",
       "    .dataframe tbody tr th:only-of-type {\n",
       "        vertical-align: middle;\n",
       "    }\n",
       "\n",
       "    .dataframe tbody tr th {\n",
       "        vertical-align: top;\n",
       "    }\n",
       "\n",
       "    .dataframe thead th {\n",
       "        text-align: right;\n",
       "    }\n",
       "</style>\n",
       "<table border=\"1\" class=\"dataframe\">\n",
       "  <thead>\n",
       "    <tr style=\"text-align: right;\">\n",
       "      <th></th>\n",
       "      <th>Method</th>\n",
       "      <th>Sensitivity (%)</th>\n",
       "      <th>Specificity (%)</th>\n",
       "      <th>Accuracy (%)</th>\n",
       "      <th>F1 Score (%)</th>\n",
       "      <th>MCC (%)</th>\n",
       "      <th>auROC (%)</th>\n",
       "    </tr>\n",
       "  </thead>\n",
       "  <tbody>\n",
       "    <tr>\n",
       "      <th>0</th>\n",
       "      <td>ContrastiveT5-Prompt20-Margin3.0-lam1.0</td>\n",
       "      <td>90.083632</td>\n",
       "      <td>94.145759</td>\n",
       "      <td>92.114695</td>\n",
       "      <td>91.951220</td>\n",
       "      <td>84.298970</td>\n",
       "      <td>96.869402</td>\n",
       "    </tr>\n",
       "    <tr>\n",
       "      <th>1</th>\n",
       "      <td>ContrastiveT5-Prompt20-Margin5.0-lam1.0</td>\n",
       "      <td>91.517324</td>\n",
       "      <td>94.982079</td>\n",
       "      <td>93.249701</td>\n",
       "      <td>93.130699</td>\n",
       "      <td>86.551369</td>\n",
       "      <td>96.684124</td>\n",
       "    </tr>\n",
       "    <tr>\n",
       "      <th>2</th>\n",
       "      <td>ContrastiveT5-Prompt20-Margin10.0-lam1.0</td>\n",
       "      <td>93.070490</td>\n",
       "      <td>92.951016</td>\n",
       "      <td>93.010753</td>\n",
       "      <td>93.014925</td>\n",
       "      <td>86.021567</td>\n",
       "      <td>95.492521</td>\n",
       "    </tr>\n",
       "  </tbody>\n",
       "</table>\n",
       "</div>"
      ],
      "text/plain": [
       "                                     Method  Sensitivity (%)  Specificity (%)  \\\n",
       "0   ContrastiveT5-Prompt20-Margin3.0-lam1.0        90.083632        94.145759   \n",
       "1   ContrastiveT5-Prompt20-Margin5.0-lam1.0        91.517324        94.982079   \n",
       "2  ContrastiveT5-Prompt20-Margin10.0-lam1.0        93.070490        92.951016   \n",
       "\n",
       "   Accuracy (%)  F1 Score (%)    MCC (%)  auROC (%)  \n",
       "0     92.114695     91.951220  84.298970  96.869402  \n",
       "1     93.249701     93.130699  86.551369  96.684124  \n",
       "2     93.010753     93.014925  86.021567  95.492521  "
      ]
     },
     "execution_count": 8,
     "metadata": {},
     "output_type": "execute_result"
    }
   ],
   "source": [
    "external_pred_metrics"
   ]
  },
  {
   "cell_type": "code",
   "execution_count": 9,
   "id": "4e035907",
   "metadata": {},
   "outputs": [
    {
     "data": {
      "text/html": [
       "<div>\n",
       "<style scoped>\n",
       "    .dataframe tbody tr th:only-of-type {\n",
       "        vertical-align: middle;\n",
       "    }\n",
       "\n",
       "    .dataframe tbody tr th {\n",
       "        vertical-align: top;\n",
       "    }\n",
       "\n",
       "    .dataframe thead th {\n",
       "        text-align: right;\n",
       "    }\n",
       "</style>\n",
       "<table border=\"1\" class=\"dataframe\">\n",
       "  <thead>\n",
       "    <tr style=\"text-align: right;\">\n",
       "      <th></th>\n",
       "      <th>Method</th>\n",
       "      <th>Sensitivity (%)</th>\n",
       "      <th>Specificity (%)</th>\n",
       "      <th>Accuracy (%)</th>\n",
       "      <th>F1 Score (%)</th>\n",
       "      <th>MCC (%)</th>\n",
       "      <th>auROC (%)</th>\n",
       "    </tr>\n",
       "  </thead>\n",
       "  <tbody>\n",
       "    <tr>\n",
       "      <th>0</th>\n",
       "      <td>ContrastiveT5-Prompt20-Margin1.0-lam1.0</td>\n",
       "      <td>92.114695</td>\n",
       "      <td>91.397849</td>\n",
       "      <td>91.756272</td>\n",
       "      <td>91.785714</td>\n",
       "      <td>83.514691</td>\n",
       "      <td>96.629668</td>\n",
       "    </tr>\n",
       "    <tr>\n",
       "      <th>0</th>\n",
       "      <td>ContrastiveT5-Prompt20-Margin3.0-lam1.0</td>\n",
       "      <td>90.083632</td>\n",
       "      <td>94.145759</td>\n",
       "      <td>92.114695</td>\n",
       "      <td>91.951220</td>\n",
       "      <td>84.298970</td>\n",
       "      <td>96.869402</td>\n",
       "    </tr>\n",
       "    <tr>\n",
       "      <th>1</th>\n",
       "      <td>ContrastiveT5-Prompt20-Margin5.0-lam1.0</td>\n",
       "      <td>91.517324</td>\n",
       "      <td>94.982079</td>\n",
       "      <td>93.249701</td>\n",
       "      <td>93.130699</td>\n",
       "      <td>86.551369</td>\n",
       "      <td>96.684124</td>\n",
       "    </tr>\n",
       "    <tr>\n",
       "      <th>2</th>\n",
       "      <td>ContrastiveT5-Prompt20-Margin10.0-lam1.0</td>\n",
       "      <td>93.070490</td>\n",
       "      <td>92.951016</td>\n",
       "      <td>93.010753</td>\n",
       "      <td>93.014925</td>\n",
       "      <td>86.021567</td>\n",
       "      <td>95.492521</td>\n",
       "    </tr>\n",
       "  </tbody>\n",
       "</table>\n",
       "</div>"
      ],
      "text/plain": [
       "                                     Method  Sensitivity (%)  Specificity (%)  \\\n",
       "0   ContrastiveT5-Prompt20-Margin1.0-lam1.0        92.114695        91.397849   \n",
       "0   ContrastiveT5-Prompt20-Margin3.0-lam1.0        90.083632        94.145759   \n",
       "1   ContrastiveT5-Prompt20-Margin5.0-lam1.0        91.517324        94.982079   \n",
       "2  ContrastiveT5-Prompt20-Margin10.0-lam1.0        93.070490        92.951016   \n",
       "\n",
       "   Accuracy (%)  F1 Score (%)    MCC (%)  auROC (%)  \n",
       "0     91.756272     91.785714  83.514691  96.629668  \n",
       "0     92.114695     91.951220  84.298970  96.869402  \n",
       "1     93.249701     93.130699  86.551369  96.684124  \n",
       "2     93.010753     93.014925  86.021567  95.492521  "
      ]
     },
     "execution_count": 9,
     "metadata": {},
     "output_type": "execute_result"
    }
   ],
   "source": [
    "# comb_metrics_df = pd.concat([external_pred_metrics, metrics_prompt_dataset], axis=0)\n",
    "comb_metrics_df = pd.concat([metrics_prompt_dataset,external_pred_metrics], axis=0)\n",
    "# comb_metrics_df = comb_metrics_df.rename(columns={comb_metrics_df.columns[0]: 'Method'})\n",
    "comb_metrics_df"
   ]
  },
  {
   "cell_type": "code",
   "execution_count": 11,
   "id": "25ac4c35-3bcd-4c26-9cdf-d2c65252f595",
   "metadata": {},
   "outputs": [],
   "source": [
    "# comb_metrics_df.to_csv('../Results/All_METRICS.csv',index=False)"
   ]
  },
  {
   "cell_type": "code",
   "execution_count": 10,
   "id": "35be5dee-b36e-4d7a-9e6c-70a12600a611",
   "metadata": {},
   "outputs": [],
   "source": [
    "# comb_metrics_df.to_csv('../Results/T5_for_lam_METRICS.csv',index=False)\n",
    "# comb_metrics_df.to_csv('../Results/T5_for_length_METRICS.csv',index=False)\n",
    "comb_metrics_df.to_csv('../Results/T5_for_margin_METRICS.csv',index=False)"
   ]
  },
  {
   "cell_type": "code",
   "execution_count": 5,
   "id": "7dfaa1f4-4ce7-488e-b3a7-df76fc6cd9ec",
   "metadata": {},
   "outputs": [],
   "source": [
    "#plot auroc\n",
    "# Function used to import and rename columns from the external prediction text files:\n",
    "import numpy as np\n",
    "dict_pred = {'NAMP': 0, 'AMP':1}\n",
    "\n",
    "def import_and_rename(file, method):\n",
    "    df = pd.read_csv(file, sep='\\s+', header=None)\n",
    "    \n",
    "    if method == 'ANN':\n",
    "        df = df.rename(columns={0: \"id_ref\", 1: \"AMP_Pred\", 2: \"Probability\"})\n",
    "    else:\n",
    "        df = df.rename(columns={0: \"id_ref\", 1: \"AMP_Pred\", 2: \"Probability\"})\n",
    "    \n",
    "    # Mapping dictionary of boolean value to Prediction column:\n",
    "    df['AMP_Pred'] = df['AMP_Pred'].map(dict_pred)\n",
    "    \n",
    "    return df"
   ]
  },
  {
   "cell_type": "code",
   "execution_count": 21,
   "id": "8dd36d3c-5fb0-48a4-8277-80df4b214c74",
   "metadata": {},
   "outputs": [],
   "source": [
    "camp_ANN = import_and_rename('../Predictions/INDEP/CAMP/CAMP_ANN.txt', 'ANN')\n",
    "camp_DA = import_and_rename('../Predictions/INDEP/CAMP/CAMP_DA.txt', 'DA')\n",
    "camp_RF = import_and_rename('../Predictions/INDEP/CAMP/CAMP_RF.txt', 'RF')\n",
    "camp_SVM = import_and_rename('../Predictions/INDEP/CAMP/CAMP_SVM.txt', 'SVM')\n",
    "# camp_ANN.head()\n",
    "camp_ANN_label = np.array(camp_ANN['Probability'])\n",
    "camp_DA_label = np.array(camp_DA['Probability'])\n",
    "camp_RF_label = np.array(camp_RF['Probability'])\n",
    "camp_SVM_label = np.array(camp_SVM['Probability'])"
   ]
  },
  {
   "cell_type": "code",
   "execution_count": 22,
   "id": "a3a7258d-ba34-4904-ab93-4809438330f4",
   "metadata": {},
   "outputs": [
    {
     "data": {
      "text/html": [
       "<div>\n",
       "<style scoped>\n",
       "    .dataframe tbody tr th:only-of-type {\n",
       "        vertical-align: middle;\n",
       "    }\n",
       "\n",
       "    .dataframe tbody tr th {\n",
       "        vertical-align: top;\n",
       "    }\n",
       "\n",
       "    .dataframe thead th {\n",
       "        text-align: right;\n",
       "    }\n",
       "</style>\n",
       "<table border=\"1\" class=\"dataframe\">\n",
       "  <thead>\n",
       "    <tr style=\"text-align: right;\">\n",
       "      <th></th>\n",
       "      <th>id</th>\n",
       "      <th>ampep</th>\n",
       "      <th>number_of_positives</th>\n",
       "      <th>sequence</th>\n",
       "    </tr>\n",
       "  </thead>\n",
       "  <tbody>\n",
       "    <tr>\n",
       "      <th>0</th>\n",
       "      <td>peptide_test_id0</td>\n",
       "      <td>1</td>\n",
       "      <td>1</td>\n",
       "      <td>MEEKWKLSKKDTTASSSSSKSKFSRSFSTSASSTKSPIFVRSSSTK...</td>\n",
       "    </tr>\n",
       "    <tr>\n",
       "      <th>1</th>\n",
       "      <td>peptide_test_id1</td>\n",
       "      <td>1</td>\n",
       "      <td>1</td>\n",
       "      <td>MSLHRDSMVPVNSRLENMDSPILSKICAWGVMLGLFALSLFAMAYA...</td>\n",
       "    </tr>\n",
       "    <tr>\n",
       "      <th>2</th>\n",
       "      <td>peptide_test_id2</td>\n",
       "      <td>0</td>\n",
       "      <td>0</td>\n",
       "      <td>VLPLISMALGKLL</td>\n",
       "    </tr>\n",
       "    <tr>\n",
       "      <th>3</th>\n",
       "      <td>peptide_test_id3</td>\n",
       "      <td>1</td>\n",
       "      <td>1</td>\n",
       "      <td>MSAHWTFKTKELEDQVENQRRIDQELKKKVLKLEFCLRETRIQTRK...</td>\n",
       "    </tr>\n",
       "    <tr>\n",
       "      <th>4</th>\n",
       "      <td>peptide_test_id4</td>\n",
       "      <td>1</td>\n",
       "      <td>1</td>\n",
       "      <td>MAIFGKLTKLKSAIKKWPSLTKNHHSTMCTASTAVSEVSKCEDLHV...</td>\n",
       "    </tr>\n",
       "  </tbody>\n",
       "</table>\n",
       "</div>"
      ],
      "text/plain": [
       "                 id  ampep  number_of_positives  \\\n",
       "0  peptide_test_id0      1                    1   \n",
       "1  peptide_test_id1      1                    1   \n",
       "2  peptide_test_id2      0                    0   \n",
       "3  peptide_test_id3      1                    1   \n",
       "4  peptide_test_id4      1                    1   \n",
       "\n",
       "                                            sequence  \n",
       "0  MEEKWKLSKKDTTASSSSSKSKFSRSFSTSASSTKSPIFVRSSSTK...  \n",
       "1  MSLHRDSMVPVNSRLENMDSPILSKICAWGVMLGLFALSLFAMAYA...  \n",
       "2                                      VLPLISMALGKLL  \n",
       "3  MSAHWTFKTKELEDQVENQRRIDQELKKKVLKLEFCLRETRIQTRK...  \n",
       "4  MAIFGKLTKLKSAIKKWPSLTKNHHSTMCTASTAVSEVSKCEDLHV...  "
      ]
     },
     "execution_count": 22,
     "metadata": {},
     "output_type": "execute_result"
    }
   ],
   "source": [
    "AmPEP = pd.read_csv(\"../Predictions/INDEP/ampep.csv\")\n",
    "AmPEP.head()\n",
    "AmPEP_label = np.array(AmPEP['ampep'])"
   ]
  },
  {
   "cell_type": "code",
   "execution_count": 24,
   "id": "dacb591a-52b2-46cd-9561-23e8c05f4102",
   "metadata": {},
   "outputs": [],
   "source": [
    "veltriPred = pd.read_csv(\"../Predictions/INDEP/veltri.csv\")\n",
    "dict_pred_velt = {'Non-AMP': 0, 'AMP':1}\n",
    "veltriPred['Prediction_Class'] = veltriPred['Prediction_Class'].map(dict_pred_velt)\n",
    "veltriPred.head()\n",
    "veltriPred_label = np.array(veltriPred['Prediction_Probability'])"
   ]
  },
  {
   "cell_type": "code",
   "execution_count": 25,
   "id": "098851e3-aeb4-471d-bc90-de0dd472dc08",
   "metadata": {},
   "outputs": [
    {
     "data": {
      "text/plain": [
       "array([[9.4281993e-04],\n",
       "       [8.7685225e-04],\n",
       "       [4.8044610e-01],\n",
       "       [2.9354671e-02],\n",
       "       [1.4060705e-05]], dtype=float32)"
      ]
     },
     "execution_count": 25,
     "metadata": {},
     "output_type": "execute_result"
    }
   ],
   "source": [
    "LMPred_BERT =  np.load('../Predictions/INDEP/INDEP_BERT_Model_Preds.npy')\n",
    "LMPred_BERT_BFD =  np.load('../Predictions/INDEP/INDEP_BERT_BFD_Model_Preds.npy')\n",
    "LMPred_T5XL_UNI =  np.load('../Predictions/INDEP/INDEP_T5XL_UNI_Model_Preds.npy')\n",
    "LMPred_T5XL_BFD =  np.load('../Predictions/INDEP/INDEP_T5XL_BFD_Model_Preds.npy')\n",
    "LMPred_XLNET =  np.load('../Predictions/INDEP/INDEP_XLNET_Model_Preds.npy')\n",
    "LMPred_BERT[:5]"
   ]
  },
  {
   "cell_type": "code",
   "execution_count": 26,
   "id": "59082e7e-4bc0-488d-86e4-68c1c48755e1",
   "metadata": {},
   "outputs": [],
   "source": [
    "real = pd.read_csv('../dataset/plant_test.csv')\n",
    "real_label = np.array(real.Label)"
   ]
  },
  {
   "cell_type": "code",
   "execution_count": 27,
   "id": "45edce89-40e0-4481-8669-98f140f82198",
   "metadata": {},
   "outputs": [],
   "source": [
    "PTCLPAMP_label = np.load('../Predictions/INDEP/INDEP_PTCLPAMP_lam1.0_Preds.npy').reshape(-1)"
   ]
  },
  {
   "cell_type": "code",
   "execution_count": 6,
   "id": "3828c8b6-d48f-4d2d-b81e-e5f9b3c90a02",
   "metadata": {},
   "outputs": [
    {
     "ename": "NameError",
     "evalue": "name 'camp_ANN_label' is not defined",
     "output_type": "error",
     "traceback": [
      "\u001b[0;31m---------------------------------------------------------------------------\u001b[0m",
      "\u001b[0;31mNameError\u001b[0m                                 Traceback (most recent call last)",
      "Cell \u001b[0;32mIn[6], line 10\u001b[0m\n\u001b[1;32m      5\u001b[0m \u001b[38;5;66;03m# 示例数据\u001b[39;00m\n\u001b[1;32m      6\u001b[0m \u001b[38;5;66;03m# y_true = np.array([...])  # 真实标签\u001b[39;00m\n\u001b[1;32m      7\u001b[0m \u001b[38;5;66;03m# y_true = real_label\u001b[39;00m\n\u001b[1;32m      8\u001b[0m y_true \u001b[38;5;241m=\u001b[39m real_labels\n\u001b[1;32m      9\u001b[0m y_scores_dict \u001b[38;5;241m=\u001b[39m {\n\u001b[0;32m---> 10\u001b[0m     \u001b[38;5;124m'\u001b[39m\u001b[38;5;124mCAMP-ANN\u001b[39m\u001b[38;5;124m'\u001b[39m: \u001b[43mcamp_ANN_label\u001b[49m,  \u001b[38;5;66;03m# 模型1的预测概率\u001b[39;00m\n\u001b[1;32m     11\u001b[0m     \u001b[38;5;124m'\u001b[39m\u001b[38;5;124mCAMP-DA\u001b[39m\u001b[38;5;124m'\u001b[39m: camp_DA_label,  \u001b[38;5;66;03m# 模型2的预测概率\u001b[39;00m\n\u001b[1;32m     12\u001b[0m     \u001b[38;5;124m'\u001b[39m\u001b[38;5;124mCAMP-RF\u001b[39m\u001b[38;5;124m'\u001b[39m: camp_RF_label,   \u001b[38;5;66;03m# 模型3的预测概率\u001b[39;00m\n\u001b[1;32m     13\u001b[0m     \u001b[38;5;124m'\u001b[39m\u001b[38;5;124mCAMP-SVM\u001b[39m\u001b[38;5;124m'\u001b[39m:camp_SVM_label,\n\u001b[1;32m     14\u001b[0m     \u001b[38;5;124m'\u001b[39m\u001b[38;5;124mAmPEP\u001b[39m\u001b[38;5;124m'\u001b[39m:AmPEP_label,\n\u001b[1;32m     15\u001b[0m     \u001b[38;5;124m'\u001b[39m\u001b[38;5;124mVeltri-DNN\u001b[39m\u001b[38;5;124m'\u001b[39m:veltriPred_label,\n\u001b[1;32m     16\u001b[0m     \u001b[38;5;124m'\u001b[39m\u001b[38;5;124mLMPred-BERT\u001b[39m\u001b[38;5;124m'\u001b[39m:LMPred_BERT,\n\u001b[1;32m     17\u001b[0m     \u001b[38;5;124m'\u001b[39m\u001b[38;5;124mLMPred-BERT-BFD\u001b[39m\u001b[38;5;124m'\u001b[39m:LMPred_BERT_BFD,\n\u001b[1;32m     18\u001b[0m     \u001b[38;5;124m'\u001b[39m\u001b[38;5;124mLMPred-T5XL-UNI\u001b[39m\u001b[38;5;124m'\u001b[39m:LMPred_T5XL_UNI,\n\u001b[1;32m     19\u001b[0m     \u001b[38;5;124m'\u001b[39m\u001b[38;5;124mLMPred-T5XL-BFD\u001b[39m\u001b[38;5;124m'\u001b[39m:LMPred_T5XL_BFD,\n\u001b[1;32m     20\u001b[0m     \u001b[38;5;124m'\u001b[39m\u001b[38;5;124mLMPred-XLNET\u001b[39m\u001b[38;5;124m'\u001b[39m:LMPred_XLNET,\n\u001b[1;32m     21\u001b[0m     \u001b[38;5;124m'\u001b[39m\u001b[38;5;124mPTCLPAMP\u001b[39m\u001b[38;5;124m'\u001b[39m:pre_pro,\n\u001b[1;32m     22\u001b[0m     \u001b[38;5;66;03m# 'PTCLPAMP':pred_labels,\u001b[39;00m\n\u001b[1;32m     23\u001b[0m     \u001b[38;5;66;03m# 添加更多模型预测结果\u001b[39;00m\n\u001b[1;32m     24\u001b[0m }\n\u001b[1;32m     26\u001b[0m \u001b[38;5;28;01mdef\u001b[39;00m \u001b[38;5;21mplot_roc_curves\u001b[39m(y_true, y_scores_dict):\n\u001b[1;32m     27\u001b[0m     plt\u001b[38;5;241m.\u001b[39mfigure(figsize\u001b[38;5;241m=\u001b[39m(\u001b[38;5;241m10\u001b[39m, \u001b[38;5;241m8\u001b[39m))\n",
      "\u001b[0;31mNameError\u001b[0m: name 'camp_ANN_label' is not defined"
     ]
    }
   ],
   "source": [
    "import numpy as np\n",
    "import matplotlib.pyplot as plt\n",
    "from sklearn.metrics import roc_curve, auc\n",
    "\n",
    "# plt.rcParams['font.sans-serif'] = ['SimHei']\n",
    "# plt.rcParams['axes.unicode_minus']=False #用来正常显示负号 #有中文出现的情况，需要u'内容'\n",
    "\n",
    "# 示例数据\n",
    "# y_true = np.array([...])  # 真实标签\n",
    "# y_true = real_label\n",
    "\n",
    "y_true = real_labels\n",
    "y_scores_dict = {\n",
    "    'CAMP-ANN': camp_ANN_label,  # 模型1的预测概率\n",
    "    'CAMP-DA': camp_DA_label,  # 模型2的预测概率\n",
    "    'CAMP-RF': camp_RF_label,   # 模型3的预测概率\n",
    "    'CAMP-SVM':camp_SVM_label,\n",
    "    'AmPEP':AmPEP_label,\n",
    "    'Veltri-DNN':veltriPred_label,\n",
    "    'LMPred-BERT':LMPred_BERT,\n",
    "    'LMPred-BERT-BFD':LMPred_BERT_BFD,\n",
    "    'LMPred-T5XL-UNI':LMPred_T5XL_UNI,\n",
    "    'LMPred-T5XL-BFD':LMPred_T5XL_BFD,\n",
    "    'LMPred-XLNET':LMPred_XLNET,\n",
    "    'PTCLPAMP':pre_pro,\n",
    "    # 'PTCLPAMP':pred_labels,\n",
    "    # 添加更多模型预测结果\n",
    "}\n",
    "\n",
    "def plot_roc_curves(y_true, y_scores_dict):\n",
    "    plt.figure(figsize=(10, 8))\n",
    "\n",
    "    for model_name, y_scores in y_scores_dict.items():\n",
    "        fpr, tpr, _ = roc_curve(y_true, y_scores)\n",
    "        roc_auc = auc(fpr, tpr)\n",
    "        plt.plot(fpr, tpr, lw=2, label=f'{model_name} (AUC = {roc_auc:.2f})')\n",
    "\n",
    "    plt.plot([0, 1], [0, 1], linestyle='--', lw=2, color='r', alpha=0.8)\n",
    "    plt.xlim([0.0, 1.0])\n",
    "    plt.ylim([0.0, 1.05])\n",
    "    plt.xlabel('False Positive Rate')\n",
    "    plt.ylabel('True Positive Rate')\n",
    "    plt.title('Receiver Operating Characteristic (ROC) Curve')\n",
    "    plt.legend(loc=\"lower right\")\n",
    "    plt.grid(alpha=0.3)\n",
    "    plt.savefig('../Figures/INDEP/ROC_Curves.png', bbox_inches='tight')\n",
    "    plt.show()\n",
    "\n",
    "# 绘制ROC曲线\n",
    "plot_roc_curves(y_true, y_scores_dict)"
   ]
  },
  {
   "cell_type": "code",
   "execution_count": null,
   "id": "2efeac48-aad7-48f0-b74c-07f4bc2dfbcc",
   "metadata": {},
   "outputs": [],
   "source": []
  }
 ],
 "metadata": {
  "kernelspec": {
   "display_name": "Python 3 (ipykernel)",
   "language": "python",
   "name": "python3"
  },
  "language_info": {
   "codemirror_mode": {
    "name": "ipython",
    "version": 3
   },
   "file_extension": ".py",
   "mimetype": "text/x-python",
   "name": "python",
   "nbconvert_exporter": "python",
   "pygments_lexer": "ipython3",
   "version": "3.10.13"
  }
 },
 "nbformat": 4,
 "nbformat_minor": 5
}
